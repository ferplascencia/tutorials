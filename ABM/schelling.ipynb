{
 "cells": [
  {
   "cell_type": "markdown",
   "metadata": {
    "deletable": true,
    "editable": true
   },
   "source": [
    "## In this notebook will rebuild Thomas Schelling's classic model of housing segregation. The original paper can be found [here](https://www.uzh.ch/cmsssl/suz/dam/jcr:00000000-68cb-72db-ffff-ffffff8071db/04.02_schelling_71.pdf).\n",
    "\n",
    "Tutorial by Antonio Sirianni. "
   ]
  },
  {
   "cell_type": "code",
   "execution_count": null,
   "metadata": {
    "collapsed": false,
    "deletable": true,
    "editable": true
   },
   "outputs": [],
   "source": [
    "import re\n",
    "import time\n",
    "import random\n",
    "import numpy as np\n",
    "import networkx as nx\n",
    "import matplotlib.pyplot as plt"
   ]
  },
  {
   "cell_type": "markdown",
   "metadata": {
    "deletable": true,
    "editable": true
   },
   "source": [
    "## 1. Set up simulation parameters"
   ]
  },
  {
   "cell_type": "code",
   "execution_count": null,
   "metadata": {
    "collapsed": true,
    "deletable": true,
    "editable": true
   },
   "outputs": [],
   "source": [
    "N_GROUP = 12\n",
    "GRID_X = 8\n",
    "GRID_Y = 6"
   ]
  },
  {
   "cell_type": "markdown",
   "metadata": {
    "deletable": true,
    "editable": true
   },
   "source": [
    "## 2. BUILD THE NEIGHBORHOOD\n",
    "We will use a network structure to keep track of the pattern of spots in the neighborhood 'neighbor' relations."
   ]
  },
  {
   "cell_type": "code",
   "execution_count": null,
   "metadata": {
    "collapsed": true,
    "deletable": true,
    "editable": true
   },
   "outputs": [],
   "source": [
    "def latticify(gridwidth, gridlength, diagonals = True):\n",
    "    lots = gridwidth * gridlength\n",
    "    Neighborhood = nx.Graph()\n",
    "    xcoord ={}\n",
    "    ycoord ={}\n",
    "    residents = {}\n",
    "    for x in range(0,lots):\n",
    "        Neighborhood.add_node(x)\n",
    "        ycoord[x] = int(x/gridlength)\n",
    "        xcoord[x] = x%gridlength\n",
    "        residents[x] = None\n",
    "    nx.set_node_attributes(Neighborhood,'xcoord',xcoord)\n",
    "    nx.set_node_attributes(Neighborhood,'ycoord',ycoord)\n",
    "    nx.set_node_attributes(Neighborhood,'residents',residents)\n",
    "    #print xcoord\n",
    "    ##This double loop will add edges between any two neighbors in the neighboorhood\n",
    "    #print Neighborhood[6]\n",
    "    for a in range(0,lots):\n",
    "        for b in range(0,lots):\n",
    "            if a > b:\n",
    "                h_dist = abs(Neighborhood.node[a]['xcoord'] - Neighborhood.node[b]['xcoord'])\n",
    "                v_dist = abs(Neighborhood.node[a]['ycoord'] - Neighborhood.node[b]['ycoord'])\n",
    "                if h_dist + v_dist == 1:\n",
    "                    Neighborhood.add_edge(a,b)\n",
    "                elif (h_dist == 1) & (v_dist ==1):\n",
    "                    if diagonals ==True:\n",
    "                        Neighborhood.add_edge(a,b)\n",
    "    return Neighborhood"
   ]
  },
  {
   "cell_type": "markdown",
   "metadata": {
    "deletable": true,
    "editable": true
   },
   "source": [
    "We can call the function here to check the neighborhood:"
   ]
  },
  {
   "cell_type": "code",
   "execution_count": null,
   "metadata": {
    "collapsed": false,
    "deletable": true,
    "editable": true
   },
   "outputs": [],
   "source": [
    "N = latticify(GRID_X, GRID_Y, diagonals = True)\n",
    "label_value_dict = {}\n",
    "pos = {}\n",
    "plt.figure(figsize=(10,7))\n",
    "for q in nx.nodes(N):\n",
    "    label_value_dict[q]= (N.node[q]['xcoord'],N.node[q]['ycoord'])\n",
    "    pos[q]=[q%6/float(8),int(q/6)/float(8)]\n",
    "nx.draw(N,pos,font_size = 15,labels = label_value_dict,node_size = 100)\n",
    "\n",
    "plt.show()"
   ]
  },
  {
   "cell_type": "markdown",
   "metadata": {
    "deletable": true,
    "editable": true
   },
   "source": [
    "## 3. BUILD THE NEIGHBORS, RANDOMLY GIVE THEM A SPOT IN THE NEIGHBORHOOD"
   ]
  },
  {
   "cell_type": "code",
   "execution_count": null,
   "metadata": {
    "collapsed": true,
    "deletable": true,
    "editable": true
   },
   "outputs": [],
   "source": [
    "class neighbor:\n",
    "    def __init__(self,neighbor_id,color,in_group,out_group,home):\n",
    "        self.id = neighbor_id\n",
    "        self.color = color\n",
    "        self.in_group = in_group\n",
    "        self.out_group = out_group\n",
    "        self.home = home\n",
    "    def move(self,new_location):\n",
    "        self.home = new_location"
   ]
  },
  {
   "cell_type": "code",
   "execution_count": null,
   "metadata": {
    "collapsed": false,
    "deletable": true,
    "editable": true
   },
   "outputs": [],
   "source": [
    "Neighbors = []\n",
    "\n",
    "InitialHomes = np.random.choice(range(48), size=2*N_GROUP, replace=False)\n",
    "\n",
    "InitialXHomes = InitialHomes[:N_GROUP] # first N\n",
    "InitialYHomes = InitialHomes[N_GROUP:] # last N\n",
    "\n",
    "for idx, home in enumerate(InitialHomes):\n",
    "    N.node[home]['residents']=idx\n",
    "    if idx < N_GROUP:\n",
    "        Neighbors.append(neighbor(idx,'blue',0.4,0.0,home))\n",
    "    else:\n",
    "        Neighbors.append(neighbor(idx,'green',0.4,0.0,home))\n",
    "\n",
    "# N = latticify(8,6,diagonals = True)\n",
    "color_value_dict = {}\n",
    "for q, attr in N.nodes_iter(data=True):\n",
    "    resident = attr['residents']\n",
    "    if resident != None:\n",
    "        if Neighbors[resident].color == 'blue':\n",
    "            color_value_dict[q]= 'blue'\n",
    "        elif Neighbors[resident].color == 'green':\n",
    "            color_value_dict[q] ='green'\n",
    "    else:\n",
    "        color_value_dict[q] = 'white'"
   ]
  },
  {
   "cell_type": "markdown",
   "metadata": {
    "deletable": true,
    "editable": true
   },
   "source": [
    "## 4. CHECK THE POPULATED NEIGHBORHOOD"
   ]
  },
  {
   "cell_type": "code",
   "execution_count": null,
   "metadata": {
    "collapsed": false,
    "deletable": true,
    "editable": true,
    "scrolled": false
   },
   "outputs": [],
   "source": [
    "plt.figure(figsize=(10,7))\n",
    "color_value = [color_value_dict.get(node) for node in N.nodes()]\n",
    "nx.draw(N,pos,font_size = 16,labels = label_value_dict,node_size = 100,node_color = color_value)\n",
    "plt.show()"
   ]
  },
  {
   "cell_type": "markdown",
   "metadata": {
    "deletable": true,
    "editable": true
   },
   "source": [
    "## 5. BUILD FUNCTION THAT MEASURES SEGREGATION"
   ]
  },
  {
   "cell_type": "markdown",
   "metadata": {
    "deletable": true,
    "editable": true
   },
   "source": [
    "Schelling uses two measures of segregation:\n",
    "\n",
    "1. The average over all agents of the ratio $\\frac{similar}{different}$\n",
    "1. The number of agents whose 8 nearest neighbors all have the same label\n",
    "\n",
    "We use two simple(er?) measures:\n",
    "1. The fraction of same-group neighbors, averaged over each individual: $\\sum_i \\frac{similar_i}{neighbors_i}$\n",
    "2. The fraction of same-group edges, $\\frac{\\#similar}{\\#edges}$"
   ]
  },
  {
   "cell_type": "code",
   "execution_count": null,
   "metadata": {
    "collapsed": false,
    "deletable": true,
    "editable": true
   },
   "outputs": [],
   "source": [
    "def measure_segregation(network, neighbors):\n",
    "    \"\"\"\n",
    "    This function returns both segregation measures\n",
    "    Ego segregation, then edge segregation\n",
    "    \"\"\"\n",
    "    \n",
    "    accepted_colors = {'blue', 'green'}\n",
    "    \n",
    "    ego_network_similarity = []\n",
    "    \n",
    "    # Iterate through individuals\n",
    "    for coord_idx, attr in network.nodes_iter(data=True):\n",
    "        resident = attr['residents']\n",
    "        if resident != None:\n",
    "            ego_color = neighbors[resident].color\n",
    "            similar_count = 0\n",
    "            neighbor_count = 0\n",
    "            ego_g = nx.ego_graph(network, coord_idx)\n",
    "            ego_g.remove_node(coord_idx) # delete ego, only alters remain\n",
    "            for _, alter_attr in ego_g.nodes_iter(data=True):\n",
    "                alter_resident = alter_attr['residents']\n",
    "                if alter_resident != None:\n",
    "                    alter_color = neighbors[alter_resident].color\n",
    "                    if ego_color == alter_color:\n",
    "                        similar_count += 1\n",
    "                    neighbor_count += 1\n",
    "            try:\n",
    "                ego_network_similarity.append(similar_count / neighbor_count)\n",
    "            except ZeroDivisionError:\n",
    "                continue\n",
    "    \n",
    "    # Iterate through edges\n",
    "    similar_ties = 0\n",
    "    all_ties = 0\n",
    "    for n1, n2 in network.edges_iter():\n",
    "        res1 = network.node[n1]['residents']\n",
    "        res2 = network.node[n2]['residents']\n",
    "        if res1 != None and res2 != None:\n",
    "            res1_color = neighbors[res1].color\n",
    "            res2_color = neighbors[res2].color\n",
    "            if res1_color == res2_color:\n",
    "                similar_ties += 1\n",
    "            all_ties += 1\n",
    "    \n",
    "    return np.mean(ego_network_similarity), similar_ties / all_ties"
   ]
  },
  {
   "cell_type": "code",
   "execution_count": null,
   "metadata": {
    "collapsed": false,
    "deletable": true,
    "editable": true
   },
   "outputs": [],
   "source": [
    "measure_segregation(N, Neighbors)"
   ]
  },
  {
   "cell_type": "markdown",
   "metadata": {
    "deletable": true,
    "editable": true
   },
   "source": [
    "## 6. BUILD LOOP THAT MOVES THE NEIGHBORS AROUND"
   ]
  },
  {
   "cell_type": "markdown",
   "metadata": {
    "deletable": true,
    "editable": true
   },
   "source": [
    "## First build functions that check desirability of locations for neighbors"
   ]
  },
  {
   "cell_type": "code",
   "execution_count": null,
   "metadata": {
    "collapsed": false,
    "deletable": true,
    "editable": true
   },
   "outputs": [],
   "source": [
    "def checkoldspot(neighbor,allneighbors,theneighborhood):\n",
    "    neighbor_outgroup_pref = neighbor.out_group\n",
    "    neighbor_ingroup_pref = neighbor.in_group\n",
    "    in_group_neighbors = 0\n",
    "    out_group_neighbors = 0\n",
    "    neighbor_lots = theneighborhood.neighbors(neighbor.id)\n",
    "    the_neighbors = []\n",
    "    for t in neighbor_lots:\n",
    "        a_neighbor = theneighborhood.node[t]['residents']\n",
    "        if a_neighbor != None:\n",
    "            the_neighbors.append(a_neighbor)\n",
    "    #print the_neighbors\n",
    "    for u in the_neighbors:\n",
    "        if allneighbors[u].color == neighbor.color:\n",
    "            in_group_neighbors = in_group_neighbors + 1\n",
    "        else:\n",
    "            out_group_neighbors = out_group_neighbors + 1\n",
    "    if (in_group_neighbors/float(in_group_neighbors+out_group_neighbors+.001)) >= neighbor_ingroup_pref:\n",
    "        if (out_group_neighbors/float(in_group_neighbors+out_group_neighbors+.001)) >= neighbor_outgroup_pref:\n",
    "            good_spot = True\n",
    "        else:\n",
    "            good_spot = False\n",
    "    else:\n",
    "        good_spot = False\n",
    "    return good_spot\n",
    "\n",
    "def checknewspot(neighbor,newspot,allneighbors,theneighborhood):\n",
    "    if theneighborhood.node[newspot]['residents'] == None:\n",
    "        neighbor_outgroup_pref = neighbor.out_group\n",
    "        neighbor_ingroup_pref = neighbor.in_group\n",
    "        in_group_neighbors = 0\n",
    "        out_group_neighbors = 0\n",
    "        current_in_group_neighbors = 0\n",
    "        current_out_group_neighbors = 0\n",
    "        neighbor_lots = theneighborhood.neighbors(newspot)\n",
    "        the_neighbors = []\n",
    "        for t in neighbor_lots:\n",
    "            a_neighbor = theneighborhood.node[t]['residents']\n",
    "            if a_neighbor != None:\n",
    "                the_neighbors.append(a_neighbor)\n",
    "        #print the_neighbors\n",
    "        for u in the_neighbors:\n",
    "            if allneighbors[u].color == neighbor.color:\n",
    "                in_group_neighbors = in_group_neighbors + 1\n",
    "            else:\n",
    "                out_group_neighbors = out_group_neighbors + 1\n",
    "        #Get old spots for comparison\n",
    "        currentneighbor_lots = theneighborhood.neighbors(neighbor.id)\n",
    "        current_neighbors = []\n",
    "        for s in currentneighbor_lots:\n",
    "            a_cur_neighbor = theneighborhood.node[s]['residents']\n",
    "            if a_cur_neighbor != None:\n",
    "                current_neighbors.append(a_cur_neighbor)\n",
    "        #print the_neighbors\n",
    "        for r in current_neighbors:\n",
    "            if allneighbors[r].color == neighbor.color:\n",
    "                current_in_group_neighbors = current_in_group_neighbors + 1\n",
    "            else:\n",
    "                current_out_group_neighbors = current_out_group_neighbors + 1\n",
    "        if ((in_group_neighbors/float(in_group_neighbors+out_group_neighbors+.001)) >= neighbor_ingroup_pref) & ((out_group_neighbors/float(in_group_neighbors+out_group_neighbors+.001)) >= neighbor_outgroup_pref):\n",
    "            good_spot = True\n",
    "        else:\n",
    "            ing_improve = (in_group_neighbors/float(in_group_neighbors+out_group_neighbors+.001)) > min((current_in_group_neighbors/float(current_in_group_neighbors+current_out_group_neighbors+.001),neighbor_ingroup_pref))\n",
    "            og_improve = (out_group_neighbors/float(in_group_neighbors+out_group_neighbors+.001)) > min((current_out_group_neighbors/float(current_in_group_neighbors+current_out_group_neighbors+.001),neighbor_ingroup_pref))\n",
    "            good_spot = ing_improve and og_improve\n",
    "    else:\n",
    "        good_spot = False\n",
    "    return good_spot"
   ]
  },
  {
   "cell_type": "markdown",
   "metadata": {
    "deletable": true,
    "editable": true
   },
   "source": [
    "TODO: What is this next step doing?"
   ]
  },
  {
   "cell_type": "code",
   "execution_count": null,
   "metadata": {
    "collapsed": false,
    "deletable": true,
    "editable": true
   },
   "outputs": [],
   "source": [
    "Num_Of_Moves = 10000\n",
    "Actual_Moves = 0\n",
    "for t in range(0,Num_Of_Moves):\n",
    "    Mover = Neighbors[random.randint(0,23)]\n",
    "    if checkoldspot(Mover,Neighbors,N) == False:\n",
    "        NewDigs = random.randint(0,47)\n",
    "        if checknewspot(Mover,NewDigs,Neighbors,N) == True:\n",
    "            OldDigs = Mover.home\n",
    "            N.node[OldDigs]['residents'] = None\n",
    "            N.node[NewDigs]['residents'] = Mover.id\n",
    "            Mover.move(NewDigs)\n",
    "            Actual_Moves = Actual_Moves + 1\n",
    "\n",
    "print(Actual_Moves)\n",
    "\n",
    "color_value_dict = {}\n",
    "\n",
    "for q in nx.nodes(N):\n",
    "    resident = N.node[q]['residents']\n",
    "    #print resident\n",
    "    try:\n",
    "        if Neighbors[int(resident)].color == 'blue':\n",
    "            color_value_dict[q]= 'blue'\n",
    "        elif Neighbors[int(resident)].color == 'green':\n",
    "            color_value_dict[q] ='green'\n",
    "        else:\n",
    "            color_value_dict[q] = 'white'\n",
    "    except:\n",
    "        color_value_dict[q] = 'white'"
   ]
  },
  {
   "cell_type": "markdown",
   "metadata": {
    "deletable": true,
    "editable": true
   },
   "source": [
    "## 7. CHECK THE SHIFTED NEIGHBORHOOD"
   ]
  },
  {
   "cell_type": "code",
   "execution_count": null,
   "metadata": {
    "collapsed": false,
    "deletable": true,
    "editable": true,
    "scrolled": true
   },
   "outputs": [],
   "source": [
    "\n",
    "color_value = [color_value_dict.get(node) for node in N.nodes()]\n",
    "plt.figure(figsize=(10,7))\n",
    "nx.draw(N,pos,font_size = 15,labels = label_value_dict,node_size = 100,node_color = color_value)\n",
    "plt.show()\n",
    "\n",
    "measure_segregation(N,Neighbors)"
   ]
  },
  {
   "cell_type": "markdown",
   "metadata": {
    "deletable": true,
    "editable": true
   },
   "source": [
    "## 8. BUILD FUNCTION THAT DOES ALL OF THIS SO YOU CAN ITERATE THROUGH A PARAMETER SPACE"
   ]
  },
  {
   "cell_type": "code",
   "execution_count": null,
   "metadata": {
    "collapsed": true,
    "deletable": true,
    "editable": true
   },
   "outputs": [],
   "source": [
    "def schellify(Rows,Columns,BlueResidents,BlueIGP,BlueOGP,GreenResidents,GreenIGP,GreenOGP,Moves,Diagonal = True,ShowPlot = False):\n",
    "    #Build a Neighborhood\n",
    "    TheNeighborhood = latticify(Columns, Rows, diagonals = Diagonal)\n",
    "    #Fill it with Neighbors\n",
    "    TheNeighbors = []\n",
    "    for x in range(0,BlueResidents):\n",
    "        NewHome = None\n",
    "        while NewHome == None:\n",
    "            PotentialHome = random.randint(0,Rows*Columns-1)\n",
    "            if TheNeighborhood.node[PotentialHome]['residents']==None:\n",
    "                TheNeighborhood.node[PotentialHome]['residents']=x\n",
    "                NewHome = PotentialHome\n",
    "            else:\n",
    "                pass\n",
    "        TheNeighbors.append(neighbor(x,'blue',BlueIGP,BlueOGP,NewHome))\n",
    "    for y in range(BlueResidents,BlueResidents+GreenResidents):\n",
    "        NewHome = None\n",
    "        while NewHome == None:\n",
    "            PotentialHome = random.randint(0,Rows*Columns-1)\n",
    "            if TheNeighborhood.node[PotentialHome]['residents']==None:\n",
    "                TheNeighborhood.node[PotentialHome]['residents']=y\n",
    "                NewHome = PotentialHome\n",
    "            else:\n",
    "                pass\n",
    "        TheNeighbors.append(neighbor(y,'green',GreenIGP,GreenOGP,NewHome))\n",
    "    init_ego_seg, init_edge_seg = measure_segregation(TheNeighborhood, TheNeighbors)\n",
    "    #Let the Neighbors Move Around\n",
    "    Actual_Moves = 0\n",
    "    for m in range(0,Moves):\n",
    "        Mover = TheNeighbors[random.randint(0,BlueResidents+GreenResidents-1)]\n",
    "        if checkoldspot(Mover,TheNeighbors,TheNeighborhood) == False:\n",
    "            NewDigs = random.randint(0,Rows*Columns-1)\n",
    "            if checknewspot(Mover,NewDigs,TheNeighbors,TheNeighborhood) == True:\n",
    "                OldDigs = Mover.home\n",
    "                TheNeighborhood.node[OldDigs]['residents'] = None\n",
    "                TheNeighborhood.node[NewDigs]['residents'] = Mover.id\n",
    "                Mover.move(NewDigs)\n",
    "                Actual_Moves = Actual_Moves + 1\n",
    "            else:\n",
    "                pass\n",
    "        else:\n",
    "            pass\n",
    "    #Measure Segregation of the Shuffled Neighborhood and Return Results\n",
    "    if ShowPlot == True:\n",
    "        label_value_dict = {}\n",
    "        pos = {}\n",
    "        for q in nx.nodes(TheNeighborhood):\n",
    "            label_value_dict[q]= q\n",
    "            pos[q]=[int(q/Rows)/float(Rows),q%Columns/float(Columns)]\n",
    "        color_value_dict = {}\n",
    "        for q in nx.nodes(TheNeighborhood):\n",
    "            resident = TheNeighborhood.node[q]['residents']\n",
    "            #print resident\n",
    "            try:\n",
    "                if TheNeighbors[int(resident)].color == 'blue':\n",
    "                    color_value_dict[q]= 'blue'\n",
    "                elif TheNeighbors[int(resident)].color == 'green':\n",
    "                    color_value_dict[q] ='green'\n",
    "                else:\n",
    "                    color_value_dict[q] = 'white'\n",
    "            except:\n",
    "                color_value_dict[q] = 'white'\n",
    "        color_value = [color_value_dict.get(node) for node in TheNeighborhood.nodes()]\n",
    "\n",
    "        nx.draw(TheNeighborhood,pos,font_size = 5,labels = label_value_dict,node_size = 100,node_color = color_value)\n",
    "        plt.show()\n",
    "    else:\n",
    "        pass\n",
    "    post_ego_seg,post_edge_seg = measure_segregation(TheNeighborhood, TheNeighbors)\n",
    "    return init_ego_seg, init_edge_seg, Actual_Moves, post_ego_seg, post_edge_seg"
   ]
  },
  {
   "cell_type": "markdown",
   "metadata": {
    "deletable": true,
    "editable": true
   },
   "source": [
    "## 9. USE FUNCTION TO LOOP THROUGH PARAMETER SPACE"
   ]
  },
  {
   "cell_type": "code",
   "execution_count": null,
   "metadata": {
    "collapsed": false,
    "deletable": true,
    "editable": true
   },
   "outputs": [],
   "source": [
    "for x in [0,0.1,0.2,0.3,0.4,0.5,0.6,0.7]:\n",
    "    for y in [0,0.1,0.2,0.3,0.4,0.5,0.6,0.7]:\n",
    "        for z in range(0,10):\n",
    "            a,b,c,d,e = schellify(8,8,25,x,y,25,x,y,10000)\n",
    "            print('params {}|{}|{} had {} ego segregation and {} network segregation'.format(\n",
    "                x, y, z, round(d, 3), round(e, 3)\n",
    "            ))"
   ]
  },
  {
   "cell_type": "code",
   "execution_count": null,
   "metadata": {
    "collapsed": true,
    "deletable": true,
    "editable": true
   },
   "outputs": [],
   "source": [
    "#TODO: Perhaps it would be useful to show visualizations of some of the different outcomes (e.g. high seg, low seg)"
   ]
  },
  {
   "cell_type": "code",
   "execution_count": null,
   "metadata": {
    "collapsed": true,
    "deletable": true,
    "editable": true
   },
   "outputs": [],
   "source": []
  }
 ],
 "metadata": {
  "kernelspec": {
   "display_name": "Python 2",
   "language": "python",
   "name": "python2"
  },
  "language_info": {
   "codemirror_mode": {
    "name": "ipython",
    "version": 2
   },
   "file_extension": ".py",
   "mimetype": "text/x-python",
   "name": "python",
   "nbconvert_exporter": "python",
   "pygments_lexer": "ipython2",
   "version": "2.7.12"
  }
 },
 "nbformat": 4,
 "nbformat_minor": 2
}
