{
 "cells": [
  {
   "cell_type": "code",
   "execution_count": 109,
   "metadata": {},
   "outputs": [
    {
     "name": "stdout",
     "output_type": "stream",
     "text": [
      "Fast version? (1 for yes) 1\n"
     ]
    }
   ],
   "source": [
    "import glob\n",
    "import numpy as np\n",
    "import gensim\n",
    "from random import sample\n",
    "from sklearn.model_selection import KFold\n",
    "from sklearn.linear_model import LogisticRegression\n",
    "from sklearn.metrics import accuracy_score\n",
    "from sklearn.metrics import roc_auc_score\n",
    "from sklearn.metrics import precision_score\n",
    "from sklearn.metrics import recall_score\n",
    "from sklearn.metrics import f1_score\n",
    "\n",
    "import logging\n",
    "\n",
    "logging.basicConfig(\n",
    "    format='%(asctime)s : %(levelname)s : %(message)s',\n",
    "    level=logging.INFO\n",
    ")\n",
    "\n",
    "print('Fast version? (1 for yes) {}'.format(gensim.models.word2vec.FAST_VERSION))"
   ]
  },
  {
   "cell_type": "markdown",
   "metadata": {
    "collapsed": true
   },
   "source": [
    "## Plan\n",
    "1. Class to read in data\n",
    "1. Train word embedding model\n",
    "1. Get ground truth\n",
    "1. Classify"
   ]
  },
  {
   "cell_type": "code",
   "execution_count": 60,
   "metadata": {},
   "outputs": [],
   "source": [
    "class ReviewGetter(object):\n",
    "    \"\"\"\n",
    "    This class iterates through reviews\n",
    "    \n",
    "    - Store input paths on the class\n",
    "    \n",
    "    - The __iter__ method, each time called, will run through the docs again\n",
    "      We need to iterate a bunch of times so this makes sense\n",
    "    \n",
    "    - On the first pass, we save the ground truth labels on the class\n",
    "    \n",
    "    - Also on first pass, we save word counts\n",
    "      Word probabilities will be important later\n",
    "    \"\"\"\n",
    "    BASE_FOLDER = '/Users/g/Downloads/review_polarity/txt_sentoken'\n",
    "    PATHS = {\n",
    "        'pos': glob.glob(BASE_FOLDER + '/pos/*.txt'),\n",
    "        'neg': glob.glob(BASE_FOLDER + '/neg/*.txt'),\n",
    "    }\n",
    "    \n",
    "    def __init__(self):\n",
    "        self.n_reviews = 0\n",
    "        self.word_count_dict = {}\n",
    "        self.first_run = True\n",
    "    \n",
    "    def get_reviews(self):\n",
    "        \"\"\"\n",
    "        - Will iterate through the docs each time called\n",
    "        \n",
    "        - Yields a list of tokens\n",
    "        - We do one preprocessing step,\n",
    "          adding <b> at the beginning and </b> at the end of a review\n",
    "          plus adding <s> between sentences\n",
    "        \n",
    "        Example use:\n",
    "        r = ReviewIterator()\n",
    "        for review in r:\n",
    "            do_stuff(review)\n",
    "        \"\"\"\n",
    "        count = 0\n",
    "\n",
    "        reviews = []\n",
    "        \n",
    "        for label, paths in self.PATHS.items():\n",
    "            if label == 'pos':\n",
    "                valence = 1\n",
    "            else:\n",
    "                valence = 0\n",
    "            for path in paths:             \n",
    "                with open(path, 'r') as infile:\n",
    "                    review = []\n",
    "                    for line in infile:\n",
    "                        review.extend(line.split() + ['<s>'])\n",
    "                        # bookkeeping\n",
    "                    count += 1\n",
    "                    if count % 500 == 0:\n",
    "                        logging.info('Yielded {} reviews'.format(count))\n",
    "                    if self.first_run == True:\n",
    "                        self.n_reviews += 1\n",
    "                        for word in review:\n",
    "                            try:\n",
    "                                self.word_count_dict[word] += 1\n",
    "                            except:\n",
    "                                self.word_count_dict[word] = 1\n",
    "                    reviews.append((valence, review))\n",
    "        self.first_run = False\n",
    "        return reviews"
   ]
  },
  {
   "cell_type": "markdown",
   "metadata": {},
   "source": [
    "## Simple diagnostics"
   ]
  },
  {
   "cell_type": "code",
   "execution_count": 61,
   "metadata": {},
   "outputs": [
    {
     "name": "stderr",
     "output_type": "stream",
     "text": [
      "2017-05-03 08:27:48,893 : INFO : Yielded 500 reviews\n",
      "2017-05-03 08:27:49,347 : INFO : Yielded 1000 reviews\n",
      "2017-05-03 08:27:49,634 : INFO : Yielded 1500 reviews\n",
      "2017-05-03 08:27:49,970 : INFO : Yielded 2000 reviews\n"
     ]
    }
   ],
   "source": [
    "r = ReviewGetter()\n",
    "\n",
    "data = r.get_reviews()\n",
    "\n",
    "reviews = [x[1] for x in data]"
   ]
  },
  {
   "cell_type": "code",
   "execution_count": 62,
   "metadata": {},
   "outputs": [
    {
     "name": "stdout",
     "output_type": "stream",
     "text": [
      "['every', 'now', 'and', 'then', 'a', 'movie', 'comes', 'along', 'from', 'a', 'suspect', 'studio', ',', 'with', 'every', 'indication', 'that', 'it', 'will', 'be', 'a', 'stinker', ',', 'and', 'to', \"everybody's\", 'surprise', '(', 'perhaps', 'even', 'the', 'studio', ')', 'the', 'film', 'becomes', 'a', 'critical', 'darling', '.', '<s>', 'mtv', \"films'\", '_election', ',', 'a', 'high', 'school', 'comedy', 'starring']\n"
     ]
    }
   ],
   "source": [
    "len(reviews)\n",
    "print(reviews[1][:50])"
   ]
  },
  {
   "cell_type": "markdown",
   "metadata": {},
   "source": [
    "## Word2Vec happens here"
   ]
  },
  {
   "cell_type": "code",
   "execution_count": 72,
   "metadata": {},
   "outputs": [
    {
     "name": "stderr",
     "output_type": "stream",
     "text": [
      "2017-05-03 08:43:20,202 : INFO : collecting all words and their counts\n",
      "2017-05-03 08:43:20,205 : INFO : PROGRESS: at sentence #0, processed 0 words, keeping 0 word types\n",
      "2017-05-03 08:43:20,561 : INFO : collected 50921 word types from a corpus of 1557401 raw words and 2000 sentences\n",
      "2017-05-03 08:43:20,562 : INFO : Loading a fresh vocabulary\n",
      "2017-05-03 08:43:20,627 : INFO : min_count=5 retains 15284 unique words (30% of original 50921, drops 35637)\n",
      "2017-05-03 08:43:20,627 : INFO : min_count=5 leaves 1499751 word corpus (96% of original 1557401, drops 57650)\n",
      "2017-05-03 08:43:20,685 : INFO : deleting the raw counts dictionary of 50921 items\n",
      "2017-05-03 08:43:20,687 : INFO : sample=0.0001 downsamples 353 most-common words\n",
      "2017-05-03 08:43:20,688 : INFO : downsampling leaves estimated 683187 word corpus (45.6% of prior 1499751)\n",
      "2017-05-03 08:43:20,690 : INFO : estimated required memory for 15284 words and 100 dimensions: 19869200 bytes\n",
      "2017-05-03 08:43:20,756 : INFO : resetting layer weights\n",
      "2017-05-03 08:43:20,959 : INFO : training model with 2 workers on 15284 vocabulary and 100 features, using sg=0 hs=0 sample=0.0001 negative=5 window=10\n",
      "2017-05-03 08:43:21,964 : INFO : PROGRESS: at 3.41% examples, 696605 words/s, in_qsize 3, out_qsize 0\n",
      "2017-05-03 08:43:22,968 : INFO : PROGRESS: at 6.58% examples, 671455 words/s, in_qsize 3, out_qsize 0\n",
      "2017-05-03 08:43:23,971 : INFO : PROGRESS: at 10.02% examples, 681658 words/s, in_qsize 3, out_qsize 0\n",
      "2017-05-03 08:43:24,975 : INFO : PROGRESS: at 13.76% examples, 702262 words/s, in_qsize 3, out_qsize 0\n",
      "2017-05-03 08:43:25,977 : INFO : PROGRESS: at 17.36% examples, 709053 words/s, in_qsize 3, out_qsize 0\n",
      "2017-05-03 08:43:26,980 : INFO : PROGRESS: at 21.05% examples, 717067 words/s, in_qsize 3, out_qsize 0\n",
      "2017-05-03 08:43:27,985 : INFO : PROGRESS: at 24.89% examples, 726455 words/s, in_qsize 3, out_qsize 0\n",
      "2017-05-03 08:43:28,989 : INFO : PROGRESS: at 28.64% examples, 730715 words/s, in_qsize 4, out_qsize 0\n",
      "2017-05-03 08:43:29,994 : INFO : PROGRESS: at 31.77% examples, 720807 words/s, in_qsize 3, out_qsize 0\n",
      "2017-05-03 08:43:30,998 : INFO : PROGRESS: at 35.30% examples, 720565 words/s, in_qsize 4, out_qsize 0\n",
      "2017-05-03 08:43:32,000 : INFO : PROGRESS: at 38.83% examples, 720487 words/s, in_qsize 3, out_qsize 0\n",
      "2017-05-03 08:43:33,009 : INFO : PROGRESS: at 42.27% examples, 718622 words/s, in_qsize 3, out_qsize 0\n",
      "2017-05-03 08:43:34,010 : INFO : PROGRESS: at 45.46% examples, 713626 words/s, in_qsize 3, out_qsize 0\n",
      "2017-05-03 08:43:35,017 : INFO : PROGRESS: at 48.92% examples, 712869 words/s, in_qsize 3, out_qsize 0\n",
      "2017-05-03 08:43:36,019 : INFO : PROGRESS: at 52.55% examples, 715074 words/s, in_qsize 3, out_qsize 0\n",
      "2017-05-03 08:43:37,027 : INFO : PROGRESS: at 56.10% examples, 715528 words/s, in_qsize 3, out_qsize 0\n",
      "2017-05-03 08:43:38,030 : INFO : PROGRESS: at 59.84% examples, 718429 words/s, in_qsize 4, out_qsize 0\n",
      "2017-05-03 08:43:39,031 : INFO : PROGRESS: at 63.49% examples, 720176 words/s, in_qsize 3, out_qsize 0\n",
      "2017-05-03 08:43:40,032 : INFO : PROGRESS: at 67.13% examples, 721480 words/s, in_qsize 3, out_qsize 0\n",
      "2017-05-03 08:43:41,033 : INFO : PROGRESS: at 70.67% examples, 721683 words/s, in_qsize 3, out_qsize 0\n",
      "2017-05-03 08:43:42,035 : INFO : PROGRESS: at 74.38% examples, 723525 words/s, in_qsize 3, out_qsize 0\n",
      "2017-05-03 08:43:43,039 : INFO : PROGRESS: at 77.97% examples, 723819 words/s, in_qsize 4, out_qsize 0\n",
      "2017-05-03 08:43:44,043 : INFO : PROGRESS: at 81.65% examples, 724987 words/s, in_qsize 3, out_qsize 0\n",
      "2017-05-03 08:43:45,044 : INFO : PROGRESS: at 85.12% examples, 724467 words/s, in_qsize 3, out_qsize 0\n",
      "2017-05-03 08:43:46,045 : INFO : PROGRESS: at 89.04% examples, 727341 words/s, in_qsize 3, out_qsize 0\n",
      "2017-05-03 08:43:47,049 : INFO : PROGRESS: at 93.00% examples, 730484 words/s, in_qsize 3, out_qsize 0\n",
      "2017-05-03 08:43:48,053 : INFO : PROGRESS: at 96.92% examples, 733274 words/s, in_qsize 3, out_qsize 0\n",
      "2017-05-03 08:43:48,821 : INFO : worker thread finished; awaiting finish of 1 more threads\n",
      "2017-05-03 08:43:48,824 : INFO : worker thread finished; awaiting finish of 0 more threads\n",
      "2017-05-03 08:43:48,825 : INFO : training on 46722030 raw words (20495222 effective words) took 27.9s, 735565 effective words/s\n"
     ]
    }
   ],
   "source": [
    "w2v_model = gensim.models.Word2Vec(\n",
    "    sample(reviews, len(reviews)),\n",
    "    iter=30, # number of algorithm iterations\n",
    "    seed=42,\n",
    "    workers=2, # number of CPU cores to use\n",
    "    size=100, # length of each word vector\n",
    "    sample=1e-4, # if word has p>sample, downsample it\n",
    "    window=10, # window on sides of focal word\n",
    ")"
   ]
  },
  {
   "cell_type": "markdown",
   "metadata": {},
   "source": [
    "## W2V diagnostics\n",
    "\n",
    "We should pick some words and make sure their synonyms make sense to us"
   ]
  },
  {
   "cell_type": "code",
   "execution_count": 73,
   "metadata": {},
   "outputs": [
    {
     "name": "stderr",
     "output_type": "stream",
     "text": [
      "2017-05-03 08:44:09,073 : INFO : precomputing L2-norms of word weight vectors\n"
     ]
    },
    {
     "data": {
      "text/plain": [
       "[('quentin', 0.7789691090583801),\n",
       " ('masterpiece', 0.6947604417800903),\n",
       " (\"tarantino's\", 0.6539462804794312),\n",
       " (\"spielberg's\", 0.6374648809432983),\n",
       " ('pulp', 0.6346434354782104),\n",
       " ('filmmaker', 0.622889518737793),\n",
       " ('filmmaking', 0.6211775541305542),\n",
       " ('b-grade', 0.6170781850814819),\n",
       " ('masses', 0.6148339509963989),\n",
       " ('directing', 0.6102624535560608)]"
      ]
     },
     "execution_count": 73,
     "metadata": {},
     "output_type": "execute_result"
    }
   ],
   "source": [
    "w2v_model.wv.most_similar(positive=['woman'])\n",
    "w2v_model.wv.most_similar(positive=['man'], negative=['king'])\n",
    "w2v_model.wv.most_similar(positive=['spielberg'])\n",
    "w2v_model.wv.most_similar(positive=['spielberg', 'tarantino'])\n"
   ]
  },
  {
   "cell_type": "markdown",
   "metadata": {},
   "source": [
    "## Combine to make review vectors\n",
    "\n",
    "We use a really simple method:\n",
    "1. Choose an `alpha` level (lit indicates 0.001 to 0.0001, but for our task a value of 1 works best)\n",
    "1. For each word a person uses, get the word vector `v_word`\n",
    "1. Weight `v_word` by its overall frequency in the corpus `p_word` using formula `alpha / (alpha + p_word)` to get `v_word_weighted`. This downweights the impact of common words. A smaller `alpha` makes this downweighting more severe.\n",
    "1. Add `v_word_weighted` to the user vector `v_user` (which we initialize as all 0's.\n",
    "1. To account for different activity levels of different users, after we are done adding `v_word_weighted` for all words a user has used, we divide `v_user` by `n_words_user` to get our final user vector"
   ]
  },
  {
   "cell_type": "code",
   "execution_count": 110,
   "metadata": {},
   "outputs": [],
   "source": [
    "word_vectors = w2v_model.wv\n",
    "\n",
    "word_vocab_dict = w2v_model.wv.vocab\n",
    "word_count_dict = r.word_count_dict\n",
    "\n",
    "word_prob_dict = {k: word_count_dict[k] for k in word_vocab_dict.keys()}\n",
    "word_count_sum = sum(word_prob_dict.values())\n",
    "word_prob_dict = {k: v / word_count_sum for k, v in word_prob_dict.items()}\n",
    "\n",
    "review_token_counts = np.zeros((2000,))\n",
    "review_vectors = np.zeros((2000, 100))\n",
    "\n",
    "a = 1\n",
    "\n",
    "for idx, (label, review_tokens) in enumerate(data):\n",
    "    for token in review_tokens:\n",
    "        if token in word_vectors:\n",
    "            p = word_prob_dict[token]\n",
    "            review_token_counts[idx] += 1\n",
    "            review_vectors[idx] += (a / (a + p)) * word_vectors[token]\n",
    "\n",
    "review_vectors = review_vectors / review_token_counts[:,None]"
   ]
  },
  {
   "cell_type": "markdown",
   "metadata": {},
   "source": [
    "## Model and evaluate\n",
    "\n",
    "### Model\n",
    "\n",
    "Logistic regression with L2 penalty (\"Ridge\").\n",
    "\n",
    "This penalizes the L2-norm of the coefficient vector.\n",
    "\n",
    "L2 logistic regression is the most common way I've seen of summarizing word vectors. They seem to do well with \"dense vectors\" (e.g. not many 0's).\n",
    "\n",
    "### Metrics\n",
    "\n",
    "1. Accuracy: What fraction of predictions are correct?\n",
    "1. Precision: What fraction of classified 1's are true 1's?\n",
    "1. Recall: What fraction of true 1's are actually predicted 1's from the classifier?\n",
    "1. F1: Harmonic mean of Precision and Recall (`2 * (p*r) / (p + r)`)\n",
    "1. AUC: Area under the receiver operating characteristic (ROC) curve. We show a plot below because this is an important measure."
   ]
  },
  {
   "cell_type": "code",
   "execution_count": 111,
   "metadata": {},
   "outputs": [
    {
     "name": "stdout",
     "output_type": "stream",
     "text": [
      "acc = 0.8295\n",
      "prec = 0.8346439749462536\n",
      "rec = 0.8220401143258286\n",
      "f1 = 0.8279194648378858\n",
      "auc = 0.911483854728468\n"
     ]
    }
   ],
   "source": [
    "X = review_vectors\n",
    "y = np.array([x[0] for x in data])\n",
    "\n",
    "kf = KFold(n_splits=5, shuffle=True)\n",
    "\n",
    "scores = {\n",
    "    'acc': [],\n",
    "    'prec': [],\n",
    "    'rec': [],\n",
    "    'f1': [],\n",
    "    'auc': [],\n",
    "}\n",
    "\n",
    "# n by 2 vector, holding probabilities for 1's and 0's\n",
    "out_of_bag_probs = np.zeros((r.n_reviews, 2))\n",
    "\n",
    "for train_idx, test_idx in kf.split(X):\n",
    "    X_train, X_test = X[train_idx], X[test_idx]\n",
    "    y_train, y_test = y[train_idx], y[test_idx]\n",
    "    clf.fit(X_train, y_train)\n",
    "    \n",
    "    y_pred = clf.predict(X_test)\n",
    "    y_probs = clf.predict_proba(X_test)\n",
    "    \n",
    "    out_of_bag_probs[test_idx] = y_probs\n",
    "    \n",
    "    scores['acc'].append(accuracy_score(y_test, y_pred))\n",
    "    scores['prec'].append(precision_score(y_test, y_pred))\n",
    "    scores['rec'].append(recall_score(y_test, y_pred))\n",
    "    scores['f1'].append(f1_score(y_test, y_pred))\n",
    "    scores['auc'].append(roc_auc_score(y_test, y_probs[:,1]))\n",
    "    \n",
    "for metric, scores in scores.items():\n",
    "    print('{} = {}'.format(metric, np.mean(scores)))"
   ]
  },
  {
   "cell_type": "markdown",
   "metadata": {},
   "source": [
    "## ^ These results are pretty good\n",
    "\n",
    "As a comparison, the paper these data come from achieved a max accuracy of 87.2%. That paper had domain specific knowledge and a careful modeling procedure.\n",
    "\n",
    "We have some w2v code and no domain knowledge. We could imagine many improvements (doc vecs, tuning parameters, incorporating additional word-based signals, etc.).\n",
    "\n",
    "#### A simple way to increase accuracy is to increase `iter` in the w2v model."
   ]
  },
  {
   "cell_type": "markdown",
   "metadata": {},
   "source": [
    "### Bonus content: plot the ROC curve\n",
    "\n",
    "Intuition: if we can get a predicted probability of being in each class, we can vary our cutoff (e.g. label `x > .3` as 1, `x > .4` as 1, etc.).\n",
    "\n",
    "When we vary the cutoff, the true positive rate (TPR) and false positive rate (FPR) of the 1's will change.\n",
    "\n",
    "At low cutoffs, we will get more of the true 1's, but will also have more 0's erroneously classified as 1's.\n",
    "\n",
    "AUC-ROC lets us visually investigate this and choose an optimal cutoff. It also lets us see how well our classifier performs across cutoff levels."
   ]
  },
  {
   "cell_type": "code",
   "execution_count": 112,
   "metadata": {},
   "outputs": [
    {
     "data": {
      "image/png": "[encoded data removed]",
      "text/plain": [
       "<matplotlib.figure.Figure at 0x114492160>"
      ]
     },
     "metadata": {},
     "output_type": "display_data"
    }
   ],
   "source": [
    "import matplotlib.pyplot as plt\n",
    "from sklearn.metrics import roc_curve\n",
    "\n",
    "fpr, tpr, _ = roc_curve(y, out_of_bag_probs[:,1])\n",
    "auc = roc_auc_score(y, out_of_bag_probs[:,1])\n",
    "\n",
    "plt.figure()\n",
    "plt.plot(\n",
    "    fpr,\n",
    "    tpr,\n",
    "    color='darkorange',\n",
    "    lw=2,\n",
    "    label='ROC curve (area = {0:.3f})'.format(auc))\n",
    "\n",
    "plt.xlim([0., 1.])\n",
    "plt.ylim([0., 1.])\n",
    "plt.xlabel('False positive rate')\n",
    "plt.ylabel('True positive rate')\n",
    "plt.title('AUC-ROC')\n",
    "plt.legend(loc='lower right')\n",
    "plt.show()"
   ]
  }
 ],
 "metadata": {
  "kernelspec": {
   "display_name": "Python 3",
   "language": "python",
   "name": "python3"
  },
  "language_info": {
   "codemirror_mode": {
    "name": "ipython",
    "version": 3
   },
   "file_extension": ".py",
   "mimetype": "text/x-python",
   "name": "python",
   "nbconvert_exporter": "python",
   "pygments_lexer": "ipython3",
   "version": "3.6.0"
  }
 },
 "nbformat": 4,
 "nbformat_minor": 2
}
