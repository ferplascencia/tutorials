{
 "cells": [
  {
   "cell_type": "code",
   "execution_count": 2,
   "metadata": {
    "collapsed": true
   },
   "outputs": [],
   "source": [
    "import numpy as np"
   ]
  },
  {
   "cell_type": "code",
   "execution_count": 3,
   "metadata": {
    "collapsed": true
   },
   "outputs": [],
   "source": [
    "def softmax(x):\n",
    "    \"\"\"\n",
    "    x: a matrix or vector\n",
    "    \n",
    "    outputs: softmaxed version of x\n",
    "    \n",
    "    recall the softmax for element i is e^x_i / sum_j e^x_j\n",
    "    \n",
    "    softmax is invariant if you change the whole vector by constant c\n",
    "    common practice is to subtract max(vector) = c from the vector\n",
    "    \"\"\"\n",
    "    orig_shape = x.shape\n",
    "\n",
    "    \n",
    "    # Matrix\n",
    "    if len(x.shape) > 1:\n",
    "        x_max = np.max(x, axis=1)\n",
    "        x = x - x_max[:,None]\n",
    "        x_exp = np.exp(x)\n",
    "        x_rowsum = np.sum(x_exp, axis=1)\n",
    "        x = x_exp / x_rowsum[:,None]\n",
    "    # Vector\n",
    "    else:\n",
    "        x_max = np.max(x)\n",
    "        x = x - x_max\n",
    "        x_exp = np.exp(x)\n",
    "        x_sum = np.sum(x_exp)\n",
    "        x = x_exp / x_sum\n",
    "\n",
    "    assert x.shape == orig_shape\n",
    "    return x"
   ]
  },
  {
   "cell_type": "code",
   "execution_count": 9,
   "metadata": {},
   "outputs": [
    {
     "name": "stdout",
     "output_type": "stream",
     "text": [
      "[ 0.09003057  0.24472847  0.66524096]\n",
      "[[  9.00305732e-02   2.44728471e-01   6.65240956e-01]\n",
      " [  3.33106430e-04   6.69062149e-03   9.92976272e-01]\n",
      " [  5.10908900e-12   5.60279641e-09   9.99999994e-01]]\n"
     ]
    }
   ],
   "source": [
    "x1 = np.array([1,2,3])\n",
    "x2 = np.array([\n",
    "    [1,2,3],\n",
    "    [1,4,9],\n",
    "    [1,8,27],\n",
    "])\n",
    "\n",
    "print(softmax(x1))\n",
    "\n",
    "\n",
    "print(softmax(x2))"
   ]
  },
  {
   "cell_type": "code",
   "execution_count": 10,
   "metadata": {
    "collapsed": true
   },
   "outputs": [],
   "source": [
    "def logistic(x):\n",
    "    \"\"\"\n",
    "    x: a vector or matrix\n",
    "    outputs: logistic for each element in x\n",
    "    \n",
    "    Common activation function\n",
    "    \n",
    "    Recall that the logistic activation function is given by\n",
    "    1 / (1 + e^-x)\n",
    "    \"\"\"\n",
    "    \n",
    "    orig_shape = x.shape\n",
    "\n",
    "    # Matrix\n",
    "    if len(x.shape) > 1:\n",
    "        x = 1 / (1 + np.exp(-x))\n",
    "    # Vector\n",
    "    else:\n",
    "        x = 1 / (1 + np.exp(-x))\n",
    "    assert x.shape == orig_shape\n",
    "    return x"
   ]
  },
  {
   "cell_type": "code",
   "execution_count": 15,
   "metadata": {},
   "outputs": [
    {
     "name": "stdout",
     "output_type": "stream",
     "text": [
      "[ 0.73105858  0.88079708  0.95257413]\n",
      "[[ 0.73105858  0.88079708  0.95257413]\n",
      " [ 0.73105858  0.98201379  0.99987661]\n",
      " [ 0.73105858  0.99966465  1.        ]]\n"
     ]
    }
   ],
   "source": [
    "print(logistic(x1))\n",
    "print(logistic(x2))"
   ]
  }
 ],
 "metadata": {
  "kernelspec": {
   "display_name": "Python 3",
   "language": "python",
   "name": "python3"
  },
  "language_info": {
   "codemirror_mode": {
    "name": "ipython",
    "version": 3
   },
   "file_extension": ".py",
   "mimetype": "text/x-python",
   "name": "python",
   "nbconvert_exporter": "python",
   "pygments_lexer": "ipython3",
   "version": "3.6.0"
  }
 },
 "nbformat": 4,
 "nbformat_minor": 2
}
